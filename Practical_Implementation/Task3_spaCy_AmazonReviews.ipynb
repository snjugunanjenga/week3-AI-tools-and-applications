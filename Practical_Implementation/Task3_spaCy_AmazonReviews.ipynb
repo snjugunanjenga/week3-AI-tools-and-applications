{
  "cells": [
    {
      "cell_type": "markdown",
      "metadata": {
        "colab_type": "text",
        "id": "view-in-github"
      },
      "source": [
        "<a href=\"https://colab.research.google.com/github/snjugunanjenga/week3-AI-tools-and-applications/blob/main/Practical_Implementation/Task3_spaCy_AmazonReviews.ipynb\" target=\"_parent\"><img src=\"https://colab.research.google.com/assets/colab-badge.svg\" alt=\"Open In Colab\"/></a>"
      ]
    },
    {
      "cell_type": "code",
      "execution_count": 8,
      "metadata": {},
      "outputs": [
        {
          "name": "stdout",
          "output_type": "stream",
          "text": [
            "Requirement already satisfied: spacy in c:\\users\\people\\desktop\\pplafrica\\specialisation\\ai-softwaredev\\week3-aitools\\assignment\\aitoolsassignment\\venv\\lib\\site-packages (3.8.7)\n",
            "Requirement already satisfied: catalogue<2.1.0,>=2.0.6 in c:\\users\\people\\desktop\\pplafrica\\specialisation\\ai-softwaredev\\week3-aitools\\assignment\\aitoolsassignment\\venv\\lib\\site-packages (from spacy) (2.0.10)\n",
            "Requirement already satisfied: preshed<3.1.0,>=3.0.2 in c:\\users\\people\\desktop\\pplafrica\\specialisation\\ai-softwaredev\\week3-aitools\\assignment\\aitoolsassignment\\venv\\lib\\site-packages (from spacy) (3.0.10)\n",
            "Requirement already satisfied: langcodes<4.0.0,>=3.2.0 in c:\\users\\people\\desktop\\pplafrica\\specialisation\\ai-softwaredev\\week3-aitools\\assignment\\aitoolsassignment\\venv\\lib\\site-packages (from spacy) (3.5.0)\n",
            "Requirement already satisfied: tqdm<5.0.0,>=4.38.0 in c:\\users\\people\\desktop\\pplafrica\\specialisation\\ai-softwaredev\\week3-aitools\\assignment\\aitoolsassignment\\venv\\lib\\site-packages (from spacy) (4.67.1)\n",
            "Requirement already satisfied: numpy>=1.19.0 in c:\\users\\people\\desktop\\pplafrica\\specialisation\\ai-softwaredev\\week3-aitools\\assignment\\aitoolsassignment\\venv\\lib\\site-packages (from spacy) (2.2.6)\n",
            "Requirement already satisfied: spacy-loggers<2.0.0,>=1.0.0 in c:\\users\\people\\desktop\\pplafrica\\specialisation\\ai-softwaredev\\week3-aitools\\assignment\\aitoolsassignment\\venv\\lib\\site-packages (from spacy) (1.0.5)\n",
            "Requirement already satisfied: jinja2 in c:\\users\\people\\desktop\\pplafrica\\specialisation\\ai-softwaredev\\week3-aitools\\assignment\\aitoolsassignment\\venv\\lib\\site-packages (from spacy) (3.1.6)\n",
            "Requirement already satisfied: pydantic!=1.8,!=1.8.1,<3.0.0,>=1.7.4 in c:\\users\\people\\desktop\\pplafrica\\specialisation\\ai-softwaredev\\week3-aitools\\assignment\\aitoolsassignment\\venv\\lib\\site-packages (from spacy) (2.11.7)\n",
            "Requirement already satisfied: spacy-legacy<3.1.0,>=3.0.11 in c:\\users\\people\\desktop\\pplafrica\\specialisation\\ai-softwaredev\\week3-aitools\\assignment\\aitoolsassignment\\venv\\lib\\site-packages (from spacy) (3.0.12)\n",
            "Requirement already satisfied: typer<1.0.0,>=0.3.0 in c:\\users\\people\\desktop\\pplafrica\\specialisation\\ai-softwaredev\\week3-aitools\\assignment\\aitoolsassignment\\venv\\lib\\site-packages (from spacy) (0.16.0)\n",
            "Requirement already satisfied: cymem<2.1.0,>=2.0.2 in c:\\users\\people\\desktop\\pplafrica\\specialisation\\ai-softwaredev\\week3-aitools\\assignment\\aitoolsassignment\\venv\\lib\\site-packages (from spacy) (2.0.11)\n",
            "Requirement already satisfied: setuptools in c:\\users\\people\\desktop\\pplafrica\\specialisation\\ai-softwaredev\\week3-aitools\\assignment\\aitoolsassignment\\venv\\lib\\site-packages (from spacy) (63.2.0)\n",
            "Requirement already satisfied: srsly<3.0.0,>=2.4.3 in c:\\users\\people\\desktop\\pplafrica\\specialisation\\ai-softwaredev\\week3-aitools\\assignment\\aitoolsassignment\\venv\\lib\\site-packages (from spacy) (2.5.1)\n",
            "Requirement already satisfied: requests<3.0.0,>=2.13.0 in c:\\users\\people\\desktop\\pplafrica\\specialisation\\ai-softwaredev\\week3-aitools\\assignment\\aitoolsassignment\\venv\\lib\\site-packages (from spacy) (2.32.4)\n",
            "Requirement already satisfied: murmurhash<1.1.0,>=0.28.0 in c:\\users\\people\\desktop\\pplafrica\\specialisation\\ai-softwaredev\\week3-aitools\\assignment\\aitoolsassignment\\venv\\lib\\site-packages (from spacy) (1.0.13)\n",
            "Requirement already satisfied: weasel<0.5.0,>=0.1.0 in c:\\users\\people\\desktop\\pplafrica\\specialisation\\ai-softwaredev\\week3-aitools\\assignment\\aitoolsassignment\\venv\\lib\\site-packages (from spacy) (0.4.1)\n",
            "Requirement already satisfied: wasabi<1.2.0,>=0.9.1 in c:\\users\\people\\desktop\\pplafrica\\specialisation\\ai-softwaredev\\week3-aitools\\assignment\\aitoolsassignment\\venv\\lib\\site-packages (from spacy) (1.1.3)\n",
            "Requirement already satisfied: packaging>=20.0 in c:\\users\\people\\desktop\\pplafrica\\specialisation\\ai-softwaredev\\week3-aitools\\assignment\\aitoolsassignment\\venv\\lib\\site-packages (from spacy) (25.0)\n",
            "Requirement already satisfied: thinc<8.4.0,>=8.3.4 in c:\\users\\people\\desktop\\pplafrica\\specialisation\\ai-softwaredev\\week3-aitools\\assignment\\aitoolsassignment\\venv\\lib\\site-packages (from spacy) (8.3.6)\n",
            "Requirement already satisfied: language-data>=1.2 in c:\\users\\people\\desktop\\pplafrica\\specialisation\\ai-softwaredev\\week3-aitools\\assignment\\aitoolsassignment\\venv\\lib\\site-packages (from langcodes<4.0.0,>=3.2.0->spacy) (1.3.0)\n",
            "Requirement already satisfied: typing-inspection>=0.4.0 in c:\\users\\people\\desktop\\pplafrica\\specialisation\\ai-softwaredev\\week3-aitools\\assignment\\aitoolsassignment\\venv\\lib\\site-packages (from pydantic!=1.8,!=1.8.1,<3.0.0,>=1.7.4->spacy) (0.4.1)\n",
            "Requirement already satisfied: annotated-types>=0.6.0 in c:\\users\\people\\desktop\\pplafrica\\specialisation\\ai-softwaredev\\week3-aitools\\assignment\\aitoolsassignment\\venv\\lib\\site-packages (from pydantic!=1.8,!=1.8.1,<3.0.0,>=1.7.4->spacy) (0.7.0)\n",
            "Requirement already satisfied: pydantic-core==2.33.2 in c:\\users\\people\\desktop\\pplafrica\\specialisation\\ai-softwaredev\\week3-aitools\\assignment\\aitoolsassignment\\venv\\lib\\site-packages (from pydantic!=1.8,!=1.8.1,<3.0.0,>=1.7.4->spacy) (2.33.2)\n",
            "Requirement already satisfied: typing-extensions>=4.12.2 in c:\\users\\people\\desktop\\pplafrica\\specialisation\\ai-softwaredev\\week3-aitools\\assignment\\aitoolsassignment\\venv\\lib\\site-packages (from pydantic!=1.8,!=1.8.1,<3.0.0,>=1.7.4->spacy) (4.14.0)\n",
            "Requirement already satisfied: urllib3<3,>=1.21.1 in c:\\users\\people\\desktop\\pplafrica\\specialisation\\ai-softwaredev\\week3-aitools\\assignment\\aitoolsassignment\\venv\\lib\\site-packages (from requests<3.0.0,>=2.13.0->spacy) (2.4.0)\n",
            "Requirement already satisfied: certifi>=2017.4.17 in c:\\users\\people\\desktop\\pplafrica\\specialisation\\ai-softwaredev\\week3-aitools\\assignment\\aitoolsassignment\\venv\\lib\\site-packages (from requests<3.0.0,>=2.13.0->spacy) (2025.6.15)\n",
            "Requirement already satisfied: idna<4,>=2.5 in c:\\users\\people\\desktop\\pplafrica\\specialisation\\ai-softwaredev\\week3-aitools\\assignment\\aitoolsassignment\\venv\\lib\\site-packages (from requests<3.0.0,>=2.13.0->spacy) (3.10)\n",
            "Requirement already satisfied: charset_normalizer<4,>=2 in c:\\users\\people\\desktop\\pplafrica\\specialisation\\ai-softwaredev\\week3-aitools\\assignment\\aitoolsassignment\\venv\\lib\\site-packages (from requests<3.0.0,>=2.13.0->spacy) (3.4.2)\n",
            "Requirement already satisfied: blis<1.4.0,>=1.3.0 in c:\\users\\people\\desktop\\pplafrica\\specialisation\\ai-softwaredev\\week3-aitools\\assignment\\aitoolsassignment\\venv\\lib\\site-packages (from thinc<8.4.0,>=8.3.4->spacy) (1.3.0)\n",
            "Requirement already satisfied: confection<1.0.0,>=0.0.1 in c:\\users\\people\\desktop\\pplafrica\\specialisation\\ai-softwaredev\\week3-aitools\\assignment\\aitoolsassignment\\venv\\lib\\site-packages (from thinc<8.4.0,>=8.3.4->spacy) (0.1.5)\n",
            "Requirement already satisfied: colorama in c:\\users\\people\\desktop\\pplafrica\\specialisation\\ai-softwaredev\\week3-aitools\\assignment\\aitoolsassignment\\venv\\lib\\site-packages (from tqdm<5.0.0,>=4.38.0->spacy) (0.4.6)\n",
            "Requirement already satisfied: shellingham>=1.3.0 in c:\\users\\people\\desktop\\pplafrica\\specialisation\\ai-softwaredev\\week3-aitools\\assignment\\aitoolsassignment\\venv\\lib\\site-packages (from typer<1.0.0,>=0.3.0->spacy) (1.5.4)\n",
            "Requirement already satisfied: rich>=10.11.0 in c:\\users\\people\\desktop\\pplafrica\\specialisation\\ai-softwaredev\\week3-aitools\\assignment\\aitoolsassignment\\venv\\lib\\site-packages (from typer<1.0.0,>=0.3.0->spacy) (14.0.0)\n",
            "Requirement already satisfied: click>=8.0.0 in c:\\users\\people\\desktop\\pplafrica\\specialisation\\ai-softwaredev\\week3-aitools\\assignment\\aitoolsassignment\\venv\\lib\\site-packages (from typer<1.0.0,>=0.3.0->spacy) (8.2.1)\n",
            "Requirement already satisfied: cloudpathlib<1.0.0,>=0.7.0 in c:\\users\\people\\desktop\\pplafrica\\specialisation\\ai-softwaredev\\week3-aitools\\assignment\\aitoolsassignment\\venv\\lib\\site-packages (from weasel<0.5.0,>=0.1.0->spacy) (0.21.1)\n",
            "Requirement already satisfied: smart-open<8.0.0,>=5.2.1 in c:\\users\\people\\desktop\\pplafrica\\specialisation\\ai-softwaredev\\week3-aitools\\assignment\\aitoolsassignment\\venv\\lib\\site-packages (from weasel<0.5.0,>=0.1.0->spacy) (7.1.0)\n",
            "Requirement already satisfied: MarkupSafe>=2.0 in c:\\users\\people\\desktop\\pplafrica\\specialisation\\ai-softwaredev\\week3-aitools\\assignment\\aitoolsassignment\\venv\\lib\\site-packages (from jinja2->spacy) (3.0.2)\n",
            "Requirement already satisfied: marisa-trie>=1.1.0 in c:\\users\\people\\desktop\\pplafrica\\specialisation\\ai-softwaredev\\week3-aitools\\assignment\\aitoolsassignment\\venv\\lib\\site-packages (from language-data>=1.2->langcodes<4.0.0,>=3.2.0->spacy) (1.2.1)\n",
            "Requirement already satisfied: pygments<3.0.0,>=2.13.0 in c:\\users\\people\\desktop\\pplafrica\\specialisation\\ai-softwaredev\\week3-aitools\\assignment\\aitoolsassignment\\venv\\lib\\site-packages (from rich>=10.11.0->typer<1.0.0,>=0.3.0->spacy) (2.19.1)\n",
            "Requirement already satisfied: markdown-it-py>=2.2.0 in c:\\users\\people\\desktop\\pplafrica\\specialisation\\ai-softwaredev\\week3-aitools\\assignment\\aitoolsassignment\\venv\\lib\\site-packages (from rich>=10.11.0->typer<1.0.0,>=0.3.0->spacy) (3.0.0)\n",
            "Requirement already satisfied: wrapt in c:\\users\\people\\desktop\\pplafrica\\specialisation\\ai-softwaredev\\week3-aitools\\assignment\\aitoolsassignment\\venv\\lib\\site-packages (from smart-open<8.0.0,>=5.2.1->weasel<0.5.0,>=0.1.0->spacy) (1.17.2)\n",
            "Requirement already satisfied: mdurl~=0.1 in c:\\users\\people\\desktop\\pplafrica\\specialisation\\ai-softwaredev\\week3-aitools\\assignment\\aitoolsassignment\\venv\\lib\\site-packages (from markdown-it-py>=2.2.0->rich>=10.11.0->typer<1.0.0,>=0.3.0->spacy) (0.1.2)\n"
          ]
        },
        {
          "name": "stderr",
          "output_type": "stream",
          "text": [
            "\n",
            "[notice] A new release of pip available: 22.2.2 -> 25.1.1\n",
            "[notice] To update, run: python.exe -m pip install --upgrade pip\n"
          ]
        },
        {
          "name": "stdout",
          "output_type": "stream",
          "text": [
            "Collecting en-core-web-sm==3.8.0\n",
            "  Downloading https://github.com/explosion/spacy-models/releases/download/en_core_web_sm-3.8.0/en_core_web_sm-3.8.0-py3-none-any.whl (12.8 MB)\n",
            "     -------------------------------------- 12.8/12.8 MB 226.0 kB/s eta 0:00:00\n",
            "Installing collected packages: en-core-web-sm\n",
            "Successfully installed en-core-web-sm-3.8.0\n",
            "\u001b[38;5;2m✔ Download and installation successful\u001b[0m\n",
            "You can now load the package via spacy.load('en_core_web_sm')\n"
          ]
        },
        {
          "name": "stderr",
          "output_type": "stream",
          "text": [
            "\n",
            "[notice] A new release of pip available: 22.2.2 -> 25.1.1\n",
            "[notice] To update, run: python.exe -m pip install --upgrade pip\n"
          ]
        }
      ],
      "source": [
        "# Install spaCy and model\n",
        "!pip install spacy\n",
        "!python -m spacy download en_core_web_sm\n"
      ]
    },
    {
      "cell_type": "code",
      "execution_count": 9,
      "metadata": {},
      "outputs": [
        {
          "name": "stdout",
          "output_type": "stream",
          "text": [
            "Requirement already satisfied: pandas in c:\\users\\people\\desktop\\pplafrica\\specialisation\\ai-softwaredev\\week3-aitools\\assignment\\aitoolsassignment\\venv\\lib\\site-packages (2.3.0)\n",
            "Requirement already satisfied: python-dateutil>=2.8.2 in c:\\users\\people\\desktop\\pplafrica\\specialisation\\ai-softwaredev\\week3-aitools\\assignment\\aitoolsassignment\\venv\\lib\\site-packages (from pandas) (2.9.0.post0)\n",
            "Requirement already satisfied: numpy>=1.22.4 in c:\\users\\people\\desktop\\pplafrica\\specialisation\\ai-softwaredev\\week3-aitools\\assignment\\aitoolsassignment\\venv\\lib\\site-packages (from pandas) (2.2.6)\n",
            "Requirement already satisfied: tzdata>=2022.7 in c:\\users\\people\\desktop\\pplafrica\\specialisation\\ai-softwaredev\\week3-aitools\\assignment\\aitoolsassignment\\venv\\lib\\site-packages (from pandas) (2025.2)\n",
            "Requirement already satisfied: pytz>=2020.1 in c:\\users\\people\\desktop\\pplafrica\\specialisation\\ai-softwaredev\\week3-aitools\\assignment\\aitoolsassignment\\venv\\lib\\site-packages (from pandas) (2025.2)\n",
            "Requirement already satisfied: six>=1.5 in c:\\users\\people\\desktop\\pplafrica\\specialisation\\ai-softwaredev\\week3-aitools\\assignment\\aitoolsassignment\\venv\\lib\\site-packages (from python-dateutil>=2.8.2->pandas) (1.17.0)\n"
          ]
        },
        {
          "name": "stderr",
          "output_type": "stream",
          "text": [
            "\n",
            "[notice] A new release of pip available: 22.2.2 -> 25.1.1\n",
            "[notice] To update, run: python.exe -m pip install --upgrade pip\n"
          ]
        }
      ],
      "source": [
        "!pip install pandas"
      ]
    },
    {
      "cell_type": "code",
      "execution_count": 10,
      "metadata": {
        "colab": {
          "base_uri": "https://localhost:8080/",
          "height": 1000
        },
        "id": "sc9jgqvX3B9A",
        "outputId": "d53d68e0-6e8f-4875-ae11-02e59b6afd9c"
      },
      "outputs": [
        {
          "name": "stderr",
          "output_type": "stream",
          "text": [
            "C:\\Users\\People\\AppData\\Local\\Temp\\ipykernel_4552\\362493843.py:11: DtypeWarning: Columns (1,10) have mixed types. Specify dtype option on import or set low_memory=False.\n",
            "  df = pd.read_csv(file_path)  # Using absolute path\n"
          ]
        },
        {
          "name": "stdout",
          "output_type": "stream",
          "text": [
            "Sample Review: This product so far has not disappointed. My children love to use it and I like the ability to monitor control what content they see with ease.\n",
            "\n",
            "NER Results:\n",
            "Review: This product so far has not disappointed. My children love to use it and I like the ability to monitor control what content they see with ease.\n",
            "Entities: []\n",
            "\n",
            "Review: great for beginner or experienced person. Bought as a gift and she loves it\n",
            "Entities: []\n",
            "\n",
            "Review: Inexpensive tablet for him to use and learn on, step up from the NABI. He was thrilled with it, learn how to Skype on it already...\n",
            "Entities: [('Skype', 'ORG')]\n",
            "\n",
            "Review: I've had my Fire HD 8 two weeks now and I love it. This tablet is a great value.We are Prime Members and that is where this tablet SHINES. I love being able to easily access all of the Prime content as well as movies you can download and watch laterThis has a 1280/800 screen which has some really nice look to it its nice and crisp and very bright infact it is brighter then the ipad pro costing $900 base model. The build on this fire is INSANELY AWESOME running at only 7.7mm thick and the smooth glossy feel on the back it is really amazing to hold its like the futuristic tab in ur hands.\n",
            "Entities: [('INSANELY AWESOME', 'ORG')]\n",
            "\n",
            "Review: I bought this for my grand daughter when she comes over to visit. I set it up with her as the user, entered her age and name and now Amazon makes sure that she only accesses sites and content that are appropriate to her age. Simple to do and she loves the capabilities. I also bought and installed a 64gig SD card which gives this little tablet plenty of storage. For the price I think this tablet is best one out there. You can spend hundreds of dollars more for additional speed and capacity but when it comes to the basics this tablets does everything that most people will ever need at a fraction of the cost.\n",
            "Entities: [('Amazon', 'ORG')]\n",
            "\n",
            "Review: This amazon fire 8 inch tablet is the perfect size. I purchased it for my husband so that he has a bigger screen than just his phone. He had gotten me one a few years ago so I knew it would be a good purchase.\n",
            "Entities: []\n",
            "\n",
            "Review: Great for e-reading on the go, nice and light weight, and for the price point given, definitely worth the purchase.\n",
            "Entities: []\n",
            "\n",
            "Review: I gave this as a Christmas gift to my inlaws, husband and uncle. They loved it and how easy they are to use with fantastic features!\n",
            "Entities: []\n",
            "\n",
            "Review: Great as a device to read books. I like that it links with my borrowed library e-books. Switched from another popular tablet brand and I am happy with the choice I made. It took some time to get books from my previous non-Kindle reader, but finally figured out a way!\n",
            "Entities: []\n",
            "\n",
            "Review: I love ordering books and reading them with the reader.\n",
            "Entities: []\n",
            "\n",
            "Sentiment Analysis:\n",
            "Review: This product so far has not disappointed. My children love to use it and I like the ability to monitor control what content they see with ease.\n",
            "Sentiment: Negative\n",
            "\n",
            "Review: great for beginner or experienced person. Bought as a gift and she loves it\n",
            "Sentiment: Positive\n",
            "\n",
            "Review: Inexpensive tablet for him to use and learn on, step up from the NABI. He was thrilled with it, learn how to Skype on it already...\n",
            "Sentiment: Negative\n",
            "\n",
            "Review: I've had my Fire HD 8 two weeks now and I love it. This tablet is a great value.We are Prime Members and that is where this tablet SHINES. I love being able to easily access all of the Prime content as well as movies you can download and watch laterThis has a 1280/800 screen which has some really nice look to it its nice and crisp and very bright infact it is brighter then the ipad pro costing $900 base model. The build on this fire is INSANELY AWESOME running at only 7.7mm thick and the smooth glossy feel on the back it is really amazing to hold its like the futuristic tab in ur hands.\n",
            "Sentiment: Positive\n",
            "\n",
            "Review: I bought this for my grand daughter when she comes over to visit. I set it up with her as the user, entered her age and name and now Amazon makes sure that she only accesses sites and content that are appropriate to her age. Simple to do and she loves the capabilities. I also bought and installed a 64gig SD card which gives this little tablet plenty of storage. For the price I think this tablet is best one out there. You can spend hundreds of dollars more for additional speed and capacity but when it comes to the basics this tablets does everything that most people will ever need at a fraction of the cost.\n",
            "Sentiment: Negative\n",
            "\n",
            "Review: This amazon fire 8 inch tablet is the perfect size. I purchased it for my husband so that he has a bigger screen than just his phone. He had gotten me one a few years ago so I knew it would be a good purchase.\n",
            "Sentiment: Positive\n",
            "\n",
            "Review: Great for e-reading on the go, nice and light weight, and for the price point given, definitely worth the purchase.\n",
            "Sentiment: Positive\n",
            "\n",
            "Review: I gave this as a Christmas gift to my inlaws, husband and uncle. They loved it and how easy they are to use with fantastic features!\n",
            "Sentiment: Negative\n",
            "\n",
            "Review: Great as a device to read books. I like that it links with my borrowed library e-books. Switched from another popular tablet brand and I am happy with the choice I made. It took some time to get books from my previous non-Kindle reader, but finally figured out a way!\n",
            "Sentiment: Positive\n",
            "\n",
            "Review: I love ordering books and reading them with the reader.\n",
            "Sentiment: Negative\n",
            "\n"
          ]
        }
      ],
      "source": [
        "# Import libraries\n",
        "import spacy\n",
        "import pandas as pd\n",
        "import os\n",
        "\n",
        "# Get the absolute path to the dataset\n",
        "current_dir = os.path.dirname(os.path.abspath('__file__'))\n",
        "file_path = os.path.join(current_dir, 'content', 'amazon', 'amazon_reviews.csv')\n",
        "\n",
        "# Load dataset\n",
        "df = pd.read_csv(file_path)  # Using absolute path\n",
        "reviews = df['reviews.text'].tolist()[:10]  # Sample 10 reviews\n",
        "print(\"Sample Review:\", reviews[0])\n",
        "\n",
        "# Load spaCy model\n",
        "nlp = spacy.load('en_core_web_sm')\n",
        "\n",
        "# Named Entity Recognition (NER)\n",
        "print(\"\\nNER Results:\")\n",
        "for review in reviews:\n",
        "    doc = nlp(review)\n",
        "    entities = [(ent.text, ent.label_) for ent in doc.ents if ent.label_ in ['PRODUCT', 'ORG']]\n",
        "    print(f\"Review: {review}\\nEntities: {entities}\\n\")\n",
        "\n",
        "# Rule-based sentiment analysis\n",
        "positive_words = ['good', 'great', 'excellent', 'awesome']\n",
        "negative_words = ['bad', 'poor', 'terrible', 'awful']\n",
        "print(\"Sentiment Analysis:\")\n",
        "for review in reviews:\n",
        "    review_lower = review.lower()\n",
        "    sentiment = 'Positive' if any(word in review_lower for word in positive_words) else 'Negative'\n",
        "    print(f\"Review: {review}\\nSentiment: {sentiment}\\n\")"
      ]
    }
  ],
  "metadata": {
    "colab": {
      "authorship_tag": "ABX9TyPKFEFAq8uRWWb1jvTWcHaA",
      "include_colab_link": true,
      "provenance": []
    },
    "kernelspec": {
      "display_name": "venv",
      "language": "python",
      "name": "python3"
    },
    "language_info": {
      "codemirror_mode": {
        "name": "ipython",
        "version": 3
      },
      "file_extension": ".py",
      "mimetype": "text/x-python",
      "name": "python",
      "nbconvert_exporter": "python",
      "pygments_lexer": "ipython3",
      "version": "3.10.8"
    }
  },
  "nbformat": 4,
  "nbformat_minor": 0
}
